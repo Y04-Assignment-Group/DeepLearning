{
  "cells": [
    {
      "cell_type": "markdown",
      "metadata": {
        "id": "Dn1deroDrkWw"
      },
      "source": [
        "# SE4050 - Deep Learning\n"
      ]
    },
    {
      "cell_type": "markdown",
      "metadata": {
        "id": "qh7PBLzzr738"
      },
      "source": [
        "## Lab Activty 04\n"
      ]
    },
    {
      "cell_type": "markdown",
      "metadata": {
        "id": "AlLTCjW1r-wX"
      },
      "source": [
        "###Student ID : IT19132310\n",
        "### Name : Hettiarachchi L.S"
      ]
    },
    {
      "cell_type": "code",
      "execution_count": null,
      "metadata": {
        "id": "585ZTB8OsGME"
      },
      "outputs": [],
      "source": [
        "import tensorflow as tf\n",
        "from tensorflow.keras import models, layers, optimizers\n",
        "import matplotlib.pyplot as plt\n",
        "from IPython.display import HTML\n",
        "import os\n",
        "import pathlib\n",
        "import seaborn as sns"
      ]
    },
    {
      "cell_type": "code",
      "execution_count": null,
      "metadata": {
        "colab": {
          "base_uri": "https://localhost:8080/"
        },
        "id": "nASXo8E_bDc-",
        "outputId": "d8817128-b8d4-443c-f8a8-44f1793f18ba"
      },
      "outputs": [
        {
          "name": "stdout",
          "output_type": "stream",
          "text": [
            "Archive:  /content/Dataset.zip\n",
            "  inflating: angry/002_227_543_177_177.png  \n",
            "  inflating: angry/002_598_301_123_123.png  \n",
            "  inflating: angry/003_255_980_148_148.png  \n",
            "  inflating: angry/003_538_101_212_212.png  \n",
            "  inflating: angry/005_158_215_212_212.png  \n",
            "  inflating: angry/005_90_152_232_232.png  \n",
            "  inflating: angry/010_58_283_194_194.png  \n",
            "  inflating: angry/011_554_840_123_123.png  \n",
            "  inflating: angry/012_341_666_134_134.png  \n",
            "  inflating: angry/012_53_622_177_177.png  \n",
            "  inflating: angry/014_1088_1182_212_212.png  \n",
            "  inflating: angry/014_124_522_134_134.png  \n",
            "  inflating: angry/014_532_697_123_123.png  \n",
            "  inflating: angry/016_308_698_162_162.png  \n",
            "  inflating: angry/016_565_202_123_123.png  \n",
            "  inflating: angry/017_306_404_366_366.png  \n",
            "  inflating: angry/018_474_578_194_194.png  \n",
            "  inflating: angry/019_109_769_148_148.png  \n",
            "  inflating: angry/022_179_127_194_194.png  \n",
            "  inflating: angry/022_914_584_148_148.png  \n",
            "  inflating: angry/025_306_448_177_177.png  \n",
            "  inflating: angry/026_540_917_78_78.png  \n",
            "  inflating: angry/027_0_258_278_278.png  \n",
            "  inflating: angry/027_250_1564_334_334.png  \n",
            "  inflating: angry/027_304_167_254_254.png  \n",
            "  inflating: angry/027_419_119_305_305.png  \n",
            "  inflating: angry/029_348_329_212_212.png  \n",
            "  inflating: angry/029_553_712_162_162.png  \n",
            "  inflating: angry/034_249_630_194_194.png  \n",
            "  inflating: angry/037_1223_1461_177_177.png  \n",
            "  inflating: angry/037_325_767_112_112.png  \n",
            "  inflating: angry/039_522_582_134_134.png  \n",
            "  inflating: angry/040_464_100_177_177.png  \n",
            "  inflating: angry/042_401_148_134_134.png  \n",
            "  inflating: angry/045_160_281_134_134.png  \n",
            "  inflating: angry/12.Copy.jpg       \n",
            "  inflating: angry/1833532.764.1200.210785.jpg  \n",
            "  inflating: angry/2086667.764.1200.243755.jpg  \n",
            "  inflating: angry/2386176.764.1200.267057.jpg  \n",
            "  inflating: angry/29.jpg            \n",
            "  inflating: angry/31.jpg            \n",
            "  inflating: angry/4094367.764.1200.228189.jpg  \n",
            "  inflating: angry/8.jpg             \n",
            "  inflating: angry/9.Copy.jpg        \n",
            "  inflating: angry/Screenshot2021-03-22151315.png  \n",
            "  inflating: angry/Screenshot2021-03-22151553.png  \n",
            "  inflating: angry/Screenshot2021-03-22151633.png  \n",
            "  inflating: angry/Screenshot2021-03-22151730.png  \n",
            "  inflating: angry/Screenshot2021-03-22152500.png  \n",
            "  inflating: angry/Screenshot2021-03-22152604.png  \n",
            "  inflating: angry/jojoj.jpg         \n",
            "  inflating: angry/klkklkl.jpg       \n",
            "  inflating: angry/tgtgdg.jpg        \n",
            "  inflating: crying/002_579_579_334_334.png  \n",
            "  inflating: crying/002_629_253_526_526.png  \n",
            "  inflating: crying/003_177_1069_212_212.png  \n",
            "  inflating: crying/004_235_76_254_254.png  \n",
            "  inflating: crying/006_179_838_194_194.png  \n",
            "  inflating: crying/006_532_188_480_480.png  \n",
            "  inflating: crying/013_247_21_631_631.png  \n",
            "  inflating: crying/015_479_954_148_148.png  \n",
            "  inflating: crying/016_241_1287_366_366.png  \n",
            "  inflating: crying/017_622_304_254_254.png  \n",
            "  inflating: crying/018_156_1875_400_400.png  \n",
            "  inflating: crying/020_280_937_334_334.png  \n",
            "  inflating: crying/022_0_758_334_334.png  \n",
            "  inflating: crying/022_440_395_254_254.png  \n",
            "  inflating: crying/022_459_758_334_334.png  \n",
            "  inflating: crying/022_488_1052_526_526.png  \n",
            "  inflating: crying/023_335_110_194_194.png  \n",
            "  inflating: crying/023_532_507_278_278.png  \n",
            "  inflating: crying/023_965_1346_305_305.png  \n",
            "  inflating: crying/028_18_629_526_526.png  \n",
            "  inflating: crying/028_298_713_232_232.png  \n",
            "  inflating: crying/029_190_8_254_254.png  \n",
            "  inflating: crying/030_208_993_366_366.png  \n",
            "  inflating: crying/030_370_71_334_334.png  \n",
            "  inflating: crying/030_651_215_212_212.png  \n",
            "  inflating: crying/031_723_159_526_526.png  \n",
            "  inflating: crying/033_0_764_366_366.png  \n",
            "  inflating: crying/033_161_1146_334_334.png  \n",
            "  inflating: crying/033_161_549_334_334.png  \n",
            "  inflating: crying/033_437_823_134_134.png  \n",
            "  inflating: crying/033_440_122_254_254.png  \n",
            "  inflating: crying/033_698_997_321_321.png  \n",
            "  inflating: crying/035_424_594_212_212.png  \n",
            "  inflating: crying/038_308_532_278_278.png  \n",
            "  inflating: crying/040_122_940_254_254.png  \n",
            "  inflating: crying/042_575_215_212_212.png  \n",
            "  inflating: crying/043_668_1027_334_334.png  \n",
            "  inflating: crying/053_190_250_334_334.png  \n",
            "  inflating: crying/16.jpg           \n",
            "  inflating: crying/2386187.764.1200.242488.jpg  \n",
            "  inflating: crying/25.jpg           \n",
            "  inflating: crying/2780432.764.1200.251012.jpg  \n",
            "  inflating: crying/32.jpg           \n",
            "  inflating: crying/34.jpg           \n",
            "  inflating: crying/36.jpg           \n",
            "  inflating: crying/37.Copy.jpg      \n",
            "  inflating: crying/37.jpg           \n",
            "  inflating: crying/41.jpg           \n",
            "  inflating: crying/7.jpg            \n",
            "  inflating: crying/8.jpg            \n",
            "  inflating: crying/Screenshot2021-03-22151213.png  \n",
            "  inflating: crying/Screenshot2021-03-22152301.png  \n",
            "  inflating: crying/dsds.jpg         \n",
            "  inflating: crying/kjlkjl.jpg       \n",
            "  inflating: crying/rttrh.jpg        \n",
            "  inflating: embarrassed/001_128_220_93_93.png  \n",
            "  inflating: embarrassed/001_28_702_134_134.png  \n",
            "  inflating: embarrassed/003_582_756_278_278.png  \n",
            "  inflating: embarrassed/004_0_1069_212_212.png  \n",
            "  inflating: embarrassed/004_405_1011_194_194.png  \n",
            "  inflating: embarrassed/005_224_235_123_123.png  \n",
            "  inflating: embarrassed/005_349_781_254_254.png  \n",
            "  inflating: embarrassed/006_446_201_305_305.png  \n",
            "  inflating: embarrassed/006_610_255_305_305.png  \n",
            "  inflating: embarrassed/007_264_550_400_400.png  \n",
            "  inflating: embarrassed/007_589_589_232_232.png  \n",
            "  inflating: embarrassed/007_707_1009_112_112.png  \n",
            "  inflating: embarrassed/009_131_0_334_334.png  \n",
            "  inflating: embarrassed/009_638_1056_334_334.png  \n",
            "  inflating: embarrassed/010_532_43_148_148.png  \n",
            "  inflating: embarrassed/010_69_817_232_232.png  \n",
            "  inflating: embarrassed/010_781_713_254_254.png  \n",
            "  inflating: embarrassed/011_231_370_194_194.png  \n",
            "  inflating: embarrassed/011_527_1018_177_177.png  \n",
            "  inflating: embarrassed/012_201_1401_305_305.png  \n",
            "  inflating: embarrassed/012_568_1287_366_366.png  \n",
            "  inflating: embarrassed/012_787_476_112_112.png  \n",
            "  inflating: embarrassed/013_49_0_400_400.png  \n",
            "  inflating: embarrassed/014_474_595_194_194.png  \n",
            "  inflating: embarrassed/014_486_74_112_112.png  \n",
            "  inflating: embarrassed/015_452_136_148_148.png  \n",
            "  inflating: embarrassed/015_536_325_112_112.png  \n",
            "  inflating: embarrassed/015_65_692_305_305.png  \n",
            "  inflating: embarrassed/016_365_746_305_305.png  \n",
            "  inflating: embarrassed/017_407_728_102_102.png  \n",
            "  inflating: embarrassed/017_557_689_212_212.png  \n",
            "  inflating: embarrassed/017_647_387_194_194.png  \n",
            "  inflating: embarrassed/020_122_99_254_254.png  \n",
            "  inflating: embarrassed/020_156_586_400_400.png  \n",
            "  inflating: embarrassed/021_943_510_162_162.png  \n",
            "  inflating: embarrassed/022_207_366_162_162.png  \n",
            "  inflating: embarrassed/022_832_1261_480_480.png  \n",
            "  inflating: embarrassed/024_389_620_123_123.png  \n",
            "  inflating: embarrassed/025_424_310_212_212.png  \n",
            "  inflating: embarrassed/025_764_77_366_366.png  \n",
            "  inflating: embarrassed/026_255_1019_305_305.png  \n",
            "  inflating: embarrassed/028_123_17_148_148.png  \n",
            "  inflating: embarrassed/028_8_99_254_254.png  \n",
            "  inflating: embarrassed/029_225_94_112_112.png  \n",
            "  inflating: embarrassed/029_699_820_194_194.png  \n",
            "  inflating: embarrassed/029_993_404_366_366.png  \n",
            "  inflating: embarrassed/031_0_0_254_254.png  \n",
            "  inflating: embarrassed/031_48_1049_123_123.png  \n",
            "  inflating: embarrassed/031_71_877_334_334.png  \n",
            "  inflating: embarrassed/033_810_1077_102_102.png  \n",
            "  inflating: embarrassed/037_612_1253_194_194.png  \n",
            "  inflating: embarrassed/037_685_195_177_177.png  \n",
            "  inflating: embarrassed/040_279_510_162_162.png  \n",
            "  inflating: embarrassed/040_372_31_254_254.png  \n",
            "  inflating: embarrassed/042_370_638_334_334.png  \n",
            "  inflating: embarrassed/042_41_509_194_194.png  \n",
            "  inflating: embarrassed/043_111_28_232_232.png  \n",
            "  inflating: embarrassed/15.jpg      \n",
            "  inflating: embarrassed/1833584.764.1200.139931.jpg  \n",
            "  inflating: embarrassed/20.jpg      \n",
            "  inflating: embarrassed/26.jpg      \n",
            "  inflating: embarrassed/40.jpg      \n",
            "  inflating: embarrassed/53.jpg      \n",
            "  inflating: embarrassed/9.jpg       \n",
            "  inflating: embarrassed/Screenshot2021-03-22150753.png  \n",
            "  inflating: embarrassed/Screenshot2021-03-22151457.png  \n",
            "  inflating: happy/001_209_84_278_278.png  \n",
            "  inflating: happy/002_308_433_278_278.png  \n",
            "  inflating: happy/002_598_862_123_123.png  \n",
            "  inflating: happy/003_197_1721_194_194.png  \n",
            "  inflating: happy/004_158_367_212_212.png  \n",
            "  inflating: happy/004_158_405_212_212.png  \n",
            "  inflating: happy/004_215_677_112_112.png  \n",
            "  inflating: happy/004_329_386_212_212.png  \n",
            "  inflating: happy/004_65_676_526_526.png  \n",
            "  inflating: happy/005_162_942_194_194.png  \n",
            "  inflating: happy/005_326_258_254_254.png  \n",
            "  inflating: happy/006_25_462_212_212.png  \n",
            "  inflating: happy/006_692_443_232_232.png  \n",
            "  inflating: happy/007_109_452_148_148.png  \n",
            "  inflating: happy/007_208_535_366_366.png  \n",
            "  inflating: happy/007_31_804_254_254.png  \n",
            "  inflating: happy/009_606_980_134_134.png  \n",
            "  inflating: happy/010_472_304_93_93.png  \n",
            "  inflating: happy/011_235_690_254_254.png  \n",
            "  inflating: happy/011_29_910_78_78.png  \n",
            "  inflating: happy/011_317_1090_480_480.png  \n",
            "  inflating: happy/011_372_895_366_366.png  \n",
            "  inflating: happy/011_387_127_194_194.png  \n",
            "  inflating: happy/011_71_99_78_78.png  \n",
            "  inflating: happy/014_481_106_162_162.png  \n",
            "  inflating: happy/015_148_100_177_177.png  \n",
            "  inflating: happy/015_49_879_232_232.png  \n",
            "  inflating: happy/015_4_293_162_162.png  \n",
            "  inflating: happy/016_120_33_162_162.png  \n",
            "  inflating: happy/016_139_139_212_212.png  \n",
            "  inflating: happy/016_83_862_148_148.png  \n",
            "  inflating: happy/017_279_92_123_123.png  \n",
            "  inflating: happy/017_544_829_102_102.png  \n",
            "  inflating: happy/018_143_12_366_366.png  \n",
            "  inflating: happy/018_466_215_148_148.png  \n",
            "  inflating: happy/019_351_77_162_162.png  \n",
            "  inflating: happy/019_59_446_480_480.png  \n",
            "  inflating: happy/020_682_612_188_188.png  \n",
            "  inflating: happy/021_266_907_194_194.png  \n",
            "  inflating: happy/021_283_75_194_194.png  \n",
            "  inflating: happy/021_534_174_576_576.png  \n",
            "  inflating: happy/021_582_250_162_162.png  \n",
            "  inflating: happy/023_0_446_439_439.png  \n",
            "  inflating: happy/024_339_464_232_232.png  \n",
            "  inflating: happy/024_474_413_134_134.png  \n",
            "  inflating: happy/024_581_177_102_102.png  \n",
            "  inflating: happy/025_481_770_162_162.png  \n",
            "  inflating: happy/025_666_1026_366_366.png  \n",
            "  inflating: happy/026_109_901_148_148.png  \n",
            "  inflating: happy/026_6_838_194_194.png  \n",
            "  inflating: happy/027_281_804_254_254.png  \n",
            "  inflating: happy/027_474_910_305_305.png  \n",
            "  inflating: happy/028_148_811_134_134.png  \n",
            "  inflating: happy/028_84_37_177_177.png  \n",
            "  inflating: happy/028_974_803_212_212.png  \n",
            "  inflating: happy/029_109_703_148_148.png  \n",
            "  inflating: happy/029_197_127_194_194.png  \n",
            "  inflating: happy/029_41_489_334_334.png  \n",
            "  inflating: happy/030_764_1026_366_366.png  \n",
            "  inflating: happy/031_103_950_123_123.png  \n",
            "  inflating: happy/031_300_586_400_400.png  \n",
            "  inflating: happy/031_547_402_232_232.png  \n",
            "  inflating: happy/031_682_84_278_278.png  \n",
            "  inflating: happy/032_119_855_305_305.png  \n",
            "  inflating: happy/033_1131_1030_162_162.png  \n",
            "  inflating: happy/033_294_558_148_148.png  \n",
            "  inflating: happy/034_1087_921_232_232.png  \n",
            "  inflating: happy/034_486_99_254_254.png  \n",
            "  inflating: happy/034_756_1005_278_278.png  \n",
            "  inflating: happy/034_939_1540_177_177.png  \n",
            "  inflating: happy/041_85_980_400_400.png  \n",
            "  inflating: happy/044_111_339_232_232.png  \n",
            "  inflating: happy/062_1059_1102_162_162.png  \n",
            "  inflating: happy/10.Copy.jpg       \n",
            "  inflating: happy/14.png            \n",
            "  inflating: happy/15.Copy.jpg       \n",
            "  inflating: happy/17.Copy.jpg       \n",
            "  inflating: happy/17.jpg            \n",
            "  inflating: happy/24.jpg            \n",
            "  inflating: happy/29.jpg            \n",
            "  inflating: happy/4390002.764.1200.227912.jpg  \n",
            "  inflating: happy/4868032.764.1200.221734.jpg  \n",
            "  inflating: happy/Screenshot2021-03-22150822.png  \n",
            "  inflating: happy/dfdds.jpg         \n",
            "  inflating: happy/jjkj.jpg          \n",
            "  inflating: happy/jkjkjkl.jpg       \n",
            "  inflating: pleased/003_437_960_366_366.png  \n",
            "  inflating: pleased/005_512_903_78_78.png  \n",
            "  inflating: pleased/006_228_1087_400_400.png  \n",
            "  inflating: pleased/006_433_134_278_278.png  \n",
            "  inflating: pleased/007_491_959_194_194.png  \n",
            "  inflating: pleased/008_234_727_212_212.png  \n",
            "  inflating: pleased/009_422_474_194_194.png  \n",
            "  inflating: pleased/011_481_44_212_212.png  \n",
            "  inflating: pleased/011_532_84_278_278.png  \n",
            "  inflating: pleased/012_131_131_334_334.png  \n",
            "  inflating: pleased/012_25_689_212_212.png  \n",
            "  inflating: pleased/013_326_531_254_254.png  \n",
            "  inflating: pleased/014_1257_941_146_146.png  \n",
            "  inflating: pleased/015_686_59_123_123.png  \n",
            "  inflating: pleased/016_206_0_526_526.png  \n",
            "  inflating: pleased/016_318_422_194_194.png  \n",
            "  inflating: pleased/017_144_144_254_254.png  \n",
            "  inflating: pleased/017_463_958_93_93.png  \n",
            "  inflating: pleased/018_88_919_134_134.png  \n",
            "  inflating: pleased/020_409_510_162_162.png  \n",
            "  inflating: pleased/023_227_654_177_177.png  \n",
            "  inflating: pleased/023_93_127_194_194.png  \n",
            "  inflating: pleased/024_323_213_123_123.png  \n",
            "  inflating: pleased/025_215_82_212_212.png  \n",
            "  inflating: pleased/025_727_88_134_134.png  \n",
            "  inflating: pleased/026_301_543_123_123.png  \n",
            "  inflating: pleased/027_268_782_148_148.png  \n",
            "  inflating: pleased/027_511_907_177_177.png  \n",
            "  inflating: pleased/029_543_526_194_194.png  \n",
            "  inflating: pleased/029_606_179_177_177.png  \n",
            "  inflating: pleased/038_507_109_278_278.png  \n",
            "  inflating: pleased/040_306_764_366_366.png  \n",
            "  inflating: pleased/040_53_759_254_254.png  \n",
            "  inflating: pleased/040_890_1132_194_194.png  \n",
            "  inflating: pleased/14.jpg          \n",
            "  inflating: pleased/4094326.764.1200.187575.jpg  \n",
            "  inflating: pleased/Screenshot2021-03-22150849.png  \n",
            "  inflating: sad/002_220_546_134_134.png  \n",
            "  inflating: sad/002_582_727_134_134.png  \n",
            "  inflating: sad/003_255_119_305_305.png  \n",
            "  inflating: sad/003_466_752_123_123.png  \n",
            "  inflating: sad/004_379_388_102_102.png  \n",
            "  inflating: sad/005_31_1236_254_254.png  \n",
            "  inflating: sad/007_234_1239_212_212.png  \n",
            "  inflating: sad/007_399_429_334_334.png  \n",
            "  inflating: sad/007_466_360_148_148.png  \n",
            "  inflating: sad/008_152_1357_232_232.png  \n",
            "  inflating: sad/008_192_987_162_162.png  \n",
            "  inflating: sad/008_386_898_212_212.png  \n",
            "  inflating: sad/009_209_2301_278_278.png  \n",
            "  inflating: sad/009_419_501_305_305.png  \n",
            "  inflating: sad/009_452_466_148_148.png  \n",
            "  inflating: sad/009_538_917_212_212.png  \n",
            "  inflating: sad/011_550_228_400_400.png  \n",
            "  inflating: sad/012_0_1030_278_278.png  \n",
            "  inflating: sad/012_227_211_177_177.png  \n",
            "  inflating: sad/012_614_195_93_93.png  \n",
            "  inflating: sad/014_275_757_112_112.png  \n",
            "  inflating: sad/014_281_1076_134_134.png  \n",
            "  inflating: sad/014_310_555_305_305.png  \n",
            "  inflating: sad/014_353_116_177_177.png  \n",
            "  inflating: sad/014_365_665_305_305.png  \n",
            "  inflating: sad/014_68_685_177_177.png  \n",
            "  inflating: sad/014_707_806_278_278.png  \n",
            "  inflating: sad/015_124_545_85_85.png  \n",
            "  inflating: sad/015_169_889_78_78.png  \n",
            "  inflating: sad/015_68_717_177_177.png  \n",
            "  inflating: sad/016_452_96_148_148.png  \n",
            "  inflating: sad/017_9_184_278_278.png  \n",
            "  inflating: sad/018_373_756_148_148.png  \n",
            "  inflating: sad/018_532_732_278_278.png  \n",
            "  inflating: sad/020_456_255_112_112.png  \n",
            "  inflating: sad/021_372_535_366_366.png  \n",
            "  inflating: sad/023_255_474_305_305.png  \n",
            "  inflating: sad/024_640_568_160_160.png  \n",
            "  inflating: sad/025_131_190_334_334.png  \n",
            "  inflating: sad/026_424_405_212_212.png  \n",
            "  inflating: sad/027_192_479_400_400.png  \n",
            "  inflating: sad/027_399_161_334_334.png  \n",
            "  inflating: sad/030_429_161_334_334.png  \n",
            "  inflating: sad/031_544_113_102_102.png  \n",
            "  inflating: sad/032_347_1005_526_526.png  \n",
            "  inflating: sad/033_319_547_232_232.png  \n",
            "  inflating: sad/034_759_8_254_254.png  \n",
            "  inflating: sad/035_277_1049_551_551.png  \n",
            "  inflating: sad/041_461_763_134_134.png  \n",
            "  inflating: sad/18.jpg              \n",
            "  inflating: sad/37.jpg              \n",
            "  inflating: sad/46.jpg              \n",
            "  inflating: sad/5.jpg               \n",
            "  inflating: sad/Screenshot2021-03-22150119.png  \n",
            "  inflating: sad/hkjk.Copy.2.jpg     \n",
            "  inflating: sad/jkjjkl.jpg          \n",
            "  inflating: shock/001_481_386_212_212.png  \n",
            "  inflating: shock/001_598_1104_123_123.png  \n",
            "  inflating: shock/002_308_124_85_85.png  \n",
            "  inflating: shock/002_337_553_162_162.png  \n",
            "  inflating: shock/002_57_1191_148_148.png  \n",
            "  inflating: shock/003_162_1007_148_148.png  \n",
            "  inflating: shock/004_132_575_177_177.png  \n",
            "  inflating: shock/005_0_1674_305_305.png  \n",
            "  inflating: shock/005_155_1096_85_85.png  \n",
            "  inflating: shock/005_84_998_112_112.png  \n",
            "  inflating: shock/006_522_369_85_85.png  \n",
            "  inflating: shock/007_169_1170_123_123.png  \n",
            "  inflating: shock/007_34_358_278_278.png  \n",
            "  inflating: shock/007_44_476_112_112.png  \n",
            "  inflating: shock/007_57_769_148_148.png  \n",
            "  inflating: shock/008_116_1081_177_177.png  \n",
            "  inflating: shock/008_275_104_112_112.png  \n",
            "  inflating: shock/008_559_116_177_177.png  \n",
            "  inflating: shock/008_645_530_85_85.png  \n",
            "  inflating: shock/009_175_149_148_148.png  \n",
            "  inflating: shock/009_212_220_93_93.png  \n",
            "  inflating: shock/010_160_1040_134_134.png  \n",
            "  inflating: shock/010_258_1097_177_177.png  \n",
            "  inflating: shock/010_453_664_102_102.png  \n",
            "  inflating: shock/010_599_872_254_254.png  \n",
            "  inflating: shock/010_675_1071_123_123.png  \n",
            "  inflating: shock/011_109_518_148_148.png  \n",
            "  inflating: shock/011_367_884_123_123.png  \n",
            "  inflating: shock/011_687_496_112_112.png  \n",
            "  inflating: shock/013_144_736_254_254.png  \n",
            "  inflating: shock/013_318_474_194_194.png  \n",
            "  inflating: shock/013_405_784_212_212.png  \n",
            "  inflating: shock/013_413_109_148_148.png  \n",
            "  inflating: shock/013_506_988_112_112.png  \n",
            "  inflating: shock/013_94_262_85_85.png  \n",
            "  inflating: shock/014_202_611_148_148.png  \n",
            "  inflating: shock/014_683_351_162_162.png  \n",
            "  inflating: shock/014_708_653_123_123.png  \n",
            "  inflating: shock/014_735_1064_78_78.png  \n",
            "  inflating: shock/015_275_908_112_112.png  \n",
            "  inflating: shock/015_287_131_102_102.png  \n",
            "  inflating: shock/015_433_682_278_278.png  \n",
            "  inflating: shock/015_492_1007_148_148.png  \n",
            "  inflating: shock/016_190_211_78_78.png  \n",
            "  inflating: shock/016_678_124_134_134.png  \n",
            "  inflating: shock/017_17_1059_148_148.png  \n",
            "  inflating: shock/017_265_285_112_112.png  \n",
            "  inflating: shock/018_365_456_112_112.png  \n",
            "  inflating: shock/018_449_558_134_134.png  \n",
            "  inflating: shock/019_452_756_148_148.png  \n",
            "  inflating: shock/020_184_594_134_134.png  \n",
            "  inflating: shock/020_25_614_85_85.png  \n",
            "  inflating: shock/020_474_746_305_305.png  \n",
            "  inflating: shock/021_163_986_177_177.png  \n",
            "  inflating: shock/021_411_279_123_123.png  \n",
            "  inflating: shock/022_101_1220_212_212.png  \n",
            "  inflating: shock/022_438_664_93_93.png  \n",
            "  inflating: shock/023_433_1082_123_123.png  \n",
            "  inflating: shock/023_972_1643_123_123.png  \n",
            "  inflating: shock/024_184_59_278_278.png  \n",
            "  inflating: shock/024_413_400_148_148.png  \n",
            "  inflating: shock/024_637_1128_305_305.png  \n",
            "  inflating: shock/024_677_862_148_148.png  \n",
            "  inflating: shock/025_149_83_148_148.png  \n",
            "  inflating: shock/025_197_647_194_194.png  \n",
            "  inflating: shock/025_576_1035_71_71.png  \n",
            "  inflating: shock/026_279_598_123_123.png  \n",
            "  inflating: shock/026_348_955_212_212.png  \n",
            "  inflating: shock/027_476_836_85_85.png  \n",
            "  inflating: shock/027_496_970_177_177.png  \n",
            "  inflating: shock/027_570_510_134_134.png  \n",
            "  inflating: shock/027_597_438_162_162.png  \n",
            "  inflating: shock/028_455_774_123_123.png  \n",
            "  inflating: shock/028_622_116_177_177.png  \n",
            "  inflating: shock/029_421_329_93_93.png  \n",
            "  inflating: shock/029_692_1046_232_232.png  \n",
            "  inflating: shock/029_943_1606_134_134.png  \n",
            "  inflating: shock/031_55_453_85_85.png  \n",
            "  inflating: shock/033_308_929_162_162.png  \n",
            "  inflating: shock/033_62_62_162_162.png  \n",
            "  inflating: shock/034_134_308_162_162.png  \n",
            "  inflating: shock/036_93_942_194_194.png  \n",
            "  inflating: shock/037_700_1260_102_102.png  \n",
            "  inflating: shock/038_584_1027_65_65.png  \n",
            "  inflating: shock/041_312_653_123_123.png  \n",
            "  inflating: shock/047_801_196_102_102.png  \n",
            "  inflating: shock/13.Copy.jpg       \n",
            "  inflating: shock/14 - Copy (2).jpg  \n",
            "  inflating: shock/14 - Copy.jpg     \n",
            "  inflating: shock/23.2.jpg          \n",
            "  inflating: shock/24.jpg            \n",
            "  inflating: shock/30.jpg            \n",
            "  inflating: shock/42.Copy.Copy.3.jpg  \n",
            "  inflating: shock/6.Copy.jpg        \n",
            "  inflating: shock/6.jpg             \n",
            "  inflating: shock/7.jpg             \n",
            "  inflating: shock/Screenshot2021-03-22150236.png  \n",
            "  inflating: shock/Screenshot2021-03-22151436.png  \n",
            "  inflating: shock/Screenshot2021-03-22151519.png  \n",
            "  inflating: shock/Screenshot2021-03-22151901.png  \n",
            "  inflating: shock/Screenshot2021-03-22152346.png  \n",
            "  inflating: shock/Screenshot2021-03-22152620.png  \n"
          ]
        }
      ],
      "source": [
        "!unzip /content/Dataset.zip"
      ]
    },
    {
      "cell_type": "code",
      "execution_count": 3,
      "metadata": {
        "id": "n0teGapmZrtI"
      },
      "outputs": [],
      "source": [
        "BATCH_SIZE = 32\n",
        "IMAGE_SIZE = 360\n",
        "CHANNELS=3\n",
        "EPOCHS=50"
      ]
    },
    {
      "cell_type": "code",
      "execution_count": 4,
      "metadata": {
        "colab": {
          "base_uri": "https://localhost:8080/"
        },
        "id": "E0YBU6VrZw4Z",
        "outputId": "aa4bb6df-8484-4a2f-b887-3d7aaf912269"
      },
      "outputs": [
        {
          "name": "stdout",
          "output_type": "stream",
          "text": [
            "Found 455 files belonging to 7 classes.\n"
          ]
        }
      ],
      "source": [
        "dataset = tf.keras.preprocessing.image_dataset_from_directory(\n",
        "    directory = '/content/dataset/',\n",
        "    seed=123,\n",
        "    shuffle=True,\n",
        "    image_size=(IMAGE_SIZE,IMAGE_SIZE),\n",
        "    batch_size=BATCH_SIZE,\n",
        "    #class_mode='categorical'\n",
        ")"
      ]
    },
    {
      "cell_type": "code",
      "execution_count": 5,
      "metadata": {
        "colab": {
          "base_uri": "https://localhost:8080/"
        },
        "id": "GZLCOPHqcE6s",
        "outputId": "1c207af8-f644-4e32-ff59-ec71e78ddcc4"
      },
      "outputs": [
        {
          "data": {
            "text/plain": [
              "['angry', 'crying', 'embarrassed', 'happy', 'pleased', 'sad', 'shock']"
            ]
          },
          "execution_count": 5,
          "metadata": {},
          "output_type": "execute_result"
        }
      ],
      "source": [
        "class_names = dataset.class_names\n",
        "class_names"
      ]
    },
    {
      "cell_type": "code",
      "execution_count": 6,
      "metadata": {
        "colab": {
          "base_uri": "https://localhost:8080/"
        },
        "id": "64s7-YYfcJoR",
        "outputId": "9b72207c-9454-4b2b-a390-936ac94871e5"
      },
      "outputs": [
        {
          "name": "stdout",
          "output_type": "stream",
          "text": [
            "(32, 360, 360, 3)\n",
            "[3 5 1 2 4 5 6 2 4 0 2 1 3 3 0 0 5 6 4 6 6 3 6 3 6 2 6 3 1 5 0 6]\n"
          ]
        }
      ],
      "source": [
        "for image_batch, labels_batch in dataset.take(1):\n",
        "    print(image_batch.shape)\n",
        "    print(labels_batch.numpy())"
      ]
    },
    {
      "cell_type": "code",
      "execution_count": 7,
      "metadata": {
        "colab": {
          "base_uri": "https://localhost:8080/"
        },
        "id": "kEK_cPvUcO9Y",
        "outputId": "1f853b93-f0c5-40bd-cb52-62e318c7758b"
      },
      "outputs": [
        {
          "data": {
            "text/plain": [
              "15"
            ]
          },
          "execution_count": 7,
          "metadata": {},
          "output_type": "execute_result"
        }
      ],
      "source": [
        "len(dataset)"
      ]
    },
    {
      "cell_type": "code",
      "execution_count": 8,
      "metadata": {
        "id": "SnRK6xk8cSR3"
      },
      "outputs": [],
      "source": [
        "def get_dataset_partitions_tf(ds, train_split=0.8, val_split=0.1, test_split=0.1, shuffle=True, shuffle_size=10000):\n",
        "    assert (train_split + test_split + val_split) == 1\n",
        "    \n",
        "    ds_size = len(ds) \n",
        "    \n",
        "    if shuffle:\n",
        "        ds = ds.shuffle(shuffle_size, seed=12)\n",
        "    \n",
        "    train_size = int(train_split * ds_size)\n",
        "    val_size = int(val_split * ds_size)\n",
        "    \n",
        "    train_ds = ds.take(train_size)    \n",
        "    val_ds = ds.skip(train_size).take(val_size)\n",
        "    test_ds = ds.skip(train_size).skip(val_size)\n",
        "    \n",
        "    return train_ds, val_ds, test_ds"
      ]
    },
    {
      "cell_type": "code",
      "execution_count": 9,
      "metadata": {
        "id": "fX6IlJ_scVlP"
      },
      "outputs": [],
      "source": [
        "train_ds, val_ds, test_ds = get_dataset_partitions_tf(dataset)"
      ]
    },
    {
      "cell_type": "code",
      "execution_count": 10,
      "metadata": {
        "colab": {
          "base_uri": "https://localhost:8080/"
        },
        "id": "Ksqm7bKzcXyQ",
        "outputId": "59e7f503-ebe2-4bf3-9577-750ee8da9307"
      },
      "outputs": [
        {
          "data": {
            "text/plain": [
              "12"
            ]
          },
          "execution_count": 10,
          "metadata": {},
          "output_type": "execute_result"
        }
      ],
      "source": [
        "len(train_ds)"
      ]
    },
    {
      "cell_type": "code",
      "execution_count": 11,
      "metadata": {
        "colab": {
          "base_uri": "https://localhost:8080/"
        },
        "id": "eEBlqAOtcaNi",
        "outputId": "644a28f4-6ab6-42ad-91f9-01da4a4b6668"
      },
      "outputs": [
        {
          "data": {
            "text/plain": [
              "1"
            ]
          },
          "execution_count": 11,
          "metadata": {},
          "output_type": "execute_result"
        }
      ],
      "source": [
        "len(val_ds)"
      ]
    },
    {
      "cell_type": "code",
      "execution_count": 12,
      "metadata": {
        "colab": {
          "base_uri": "https://localhost:8080/"
        },
        "id": "shyQolpqccVg",
        "outputId": "701cf1b3-b7ec-4a62-dc48-38653fdd77c7"
      },
      "outputs": [
        {
          "data": {
            "text/plain": [
              "2"
            ]
          },
          "execution_count": 12,
          "metadata": {},
          "output_type": "execute_result"
        }
      ],
      "source": [
        "len(test_ds)"
      ]
    },
    {
      "cell_type": "code",
      "execution_count": 13,
      "metadata": {
        "id": "cLpx5i3Ycf_B"
      },
      "outputs": [],
      "source": [
        "train_ds = train_ds.cache().shuffle(1000).prefetch(buffer_size=tf.data.AUTOTUNE)\n",
        "val_ds = val_ds.cache().shuffle(1000).prefetch(buffer_size=tf.data.AUTOTUNE)\n",
        "test_ds = test_ds.cache().shuffle(1000).prefetch(buffer_size=tf.data.AUTOTUNE)"
      ]
    },
    {
      "cell_type": "code",
      "execution_count": 14,
      "metadata": {
        "id": "3Rh2a2PwcjPI"
      },
      "outputs": [],
      "source": [
        "resize_and_rescale = tf.keras.Sequential([\n",
        "  layers.experimental.preprocessing.Resizing(IMAGE_SIZE, IMAGE_SIZE),\n",
        "  layers.experimental.preprocessing.Rescaling(1./255),\n",
        "])"
      ]
    },
    {
      "cell_type": "code",
      "execution_count": 15,
      "metadata": {
        "id": "dmN0iWXWclx4"
      },
      "outputs": [],
      "source": [
        "data_augmentation = tf.keras.Sequential([\n",
        "  layers.experimental.preprocessing.RandomFlip(\"horizontal_and_vertical\"),\n",
        "  layers.experimental.preprocessing.RandomRotation(0.2),\n",
        "])"
      ]
    },
    {
      "cell_type": "code",
      "execution_count": 16,
      "metadata": {
        "id": "gkSzcEI-co1Z"
      },
      "outputs": [],
      "source": [
        "train_ds = train_ds.map(\n",
        "    lambda x, y: (data_augmentation(x, training=True), y)\n",
        ").prefetch(buffer_size=tf.data.AUTOTUNE)"
      ]
    },
    {
      "cell_type": "code",
      "execution_count": 17,
      "metadata": {
        "id": "Kbom624Wcs5c"
      },
      "outputs": [],
      "source": [
        "input_shape = (BATCH_SIZE, IMAGE_SIZE, IMAGE_SIZE, CHANNELS)\n",
        "n_classes = 7\n",
        "\n",
        "model = models.Sequential([\n",
        "    resize_and_rescale,\n",
        "    layers.Conv2D(32, kernel_size = (3,3), activation='relu', input_shape=input_shape),\n",
        "    layers.MaxPooling2D((2, 2)),\n",
        "    layers.Conv2D(64,  kernel_size = (3,3), activation='relu'),\n",
        "    layers.MaxPooling2D((2, 2)),\n",
        "    layers.Conv2D(64,  kernel_size = (3,3), activation='relu'),\n",
        "    layers.MaxPooling2D((2, 2)),\n",
        "    layers.Conv2D(64, (3, 3), activation='relu'),\n",
        "    layers.MaxPooling2D((2, 2)),\n",
        "    layers.Conv2D(64, (3, 3), activation='relu'),\n",
        "    layers.MaxPooling2D((2, 2)),\n",
        "    layers.Conv2D(64, (3, 3), activation='relu'),\n",
        "    layers.MaxPooling2D((2, 2)),\n",
        "    layers.Conv2D(64, (3, 3), activation='relu'),\n",
        "    layers.Flatten(),\n",
        "    layers.Dense(64, activation='relu'),\n",
        "    layers.Dense(n_classes, activation='softmax'),\n",
        "\n",
        "    \n",
        "\n",
        "])\n",
        "\n",
        "model.build(input_shape=input_shape)"
      ]
    },
    {
      "cell_type": "code",
      "execution_count": 18,
      "metadata": {
        "colab": {
          "base_uri": "https://localhost:8080/"
        },
        "id": "YwY1fo4CcxqI",
        "outputId": "e9aeef50-c6e5-40e6-a3b3-2a52167bb2e9"
      },
      "outputs": [
        {
          "name": "stdout",
          "output_type": "stream",
          "text": [
            "Model: \"sequential_2\"\n",
            "_________________________________________________________________\n",
            " Layer (type)                Output Shape              Param #   \n",
            "=================================================================\n",
            " sequential (Sequential)     (32, 360, 360, 3)         0         \n",
            "                                                                 \n",
            " conv2d (Conv2D)             (32, 358, 358, 32)        896       \n",
            "                                                                 \n",
            " max_pooling2d (MaxPooling2D  (32, 179, 179, 32)       0         \n",
            " )                                                               \n",
            "                                                                 \n",
            " conv2d_1 (Conv2D)           (32, 177, 177, 64)        18496     \n",
            "                                                                 \n",
            " max_pooling2d_1 (MaxPooling  (32, 88, 88, 64)         0         \n",
            " 2D)                                                             \n",
            "                                                                 \n",
            " conv2d_2 (Conv2D)           (32, 86, 86, 64)          36928     \n",
            "                                                                 \n",
            " max_pooling2d_2 (MaxPooling  (32, 43, 43, 64)         0         \n",
            " 2D)                                                             \n",
            "                                                                 \n",
            " conv2d_3 (Conv2D)           (32, 41, 41, 64)          36928     \n",
            "                                                                 \n",
            " max_pooling2d_3 (MaxPooling  (32, 20, 20, 64)         0         \n",
            " 2D)                                                             \n",
            "                                                                 \n",
            " conv2d_4 (Conv2D)           (32, 18, 18, 64)          36928     \n",
            "                                                                 \n",
            " max_pooling2d_4 (MaxPooling  (32, 9, 9, 64)           0         \n",
            " 2D)                                                             \n",
            "                                                                 \n",
            " conv2d_5 (Conv2D)           (32, 7, 7, 64)            36928     \n",
            "                                                                 \n",
            " max_pooling2d_5 (MaxPooling  (32, 3, 3, 64)           0         \n",
            " 2D)                                                             \n",
            "                                                                 \n",
            " conv2d_6 (Conv2D)           (32, 1, 1, 64)            36928     \n",
            "                                                                 \n",
            " flatten (Flatten)           (32, 64)                  0         \n",
            "                                                                 \n",
            " dense (Dense)               (32, 64)                  4160      \n",
            "                                                                 \n",
            " dense_1 (Dense)             (32, 7)                   455       \n",
            "                                                                 \n",
            "=================================================================\n",
            "Total params: 208,647\n",
            "Trainable params: 208,647\n",
            "Non-trainable params: 0\n",
            "_________________________________________________________________\n"
          ]
        }
      ],
      "source": [
        "model.summary()"
      ]
    },
    {
      "cell_type": "code",
      "execution_count": 19,
      "metadata": {
        "id": "afm4qp95c0O4"
      },
      "outputs": [],
      "source": [
        "model.compile(\n",
        "    optimizer='adam',\n",
        "    loss=tf.keras.losses.SparseCategoricalCrossentropy(from_logits=False),\n",
        "    metrics=['accuracy']\n",
        ")"
      ]
    },
    {
      "cell_type": "code",
      "execution_count": 20,
      "metadata": {
        "colab": {
          "base_uri": "https://localhost:8080/"
        },
        "id": "Vw9oBkzlc65Z",
        "outputId": "e5e5008b-e638-410d-8106-03108dfe3c5a"
      },
      "outputs": [
        {
          "name": "stdout",
          "output_type": "stream",
          "text": [
            "Epoch 1/50\n",
            "12/12 [==============================] - 100s 8s/step - loss: 1.9313 - accuracy: 0.1643 - val_loss: 1.9128 - val_accuracy: 0.2500\n",
            "Epoch 2/50\n",
            "12/12 [==============================] - 89s 7s/step - loss: 1.9269 - accuracy: 0.1755 - val_loss: 1.8474 - val_accuracy: 0.2188\n",
            "Epoch 3/50\n",
            "12/12 [==============================] - 82s 7s/step - loss: 1.9114 - accuracy: 0.2201 - val_loss: 1.8639 - val_accuracy: 0.2500\n",
            "Epoch 4/50\n",
            "12/12 [==============================] - 81s 7s/step - loss: 1.9023 - accuracy: 0.2228 - val_loss: 1.8322 - val_accuracy: 0.2500\n",
            "Epoch 5/50\n",
            "12/12 [==============================] - 82s 7s/step - loss: 1.9109 - accuracy: 0.1699 - val_loss: 1.8653 - val_accuracy: 0.2188\n",
            "Epoch 6/50\n",
            "12/12 [==============================] - 81s 7s/step - loss: 1.9097 - accuracy: 0.1894 - val_loss: 1.8656 - val_accuracy: 0.2500\n",
            "Epoch 6: early stopping\n"
          ]
        }
      ],
      "source": [
        "history = model.fit(\n",
        "    train_ds,\n",
        "    batch_size=BATCH_SIZE,\n",
        "    validation_data=val_ds,\n",
        "    verbose=1,\n",
        "    epochs=50,\n",
        "    callbacks=tf.keras.callbacks.EarlyStopping(verbose=1, patience=2),\n",
        ")"
      ]
    },
    {
      "cell_type": "code",
      "execution_count": null,
      "metadata": {
        "id": "pmPPS6W5c_6L"
      },
      "outputs": [],
      "source": [
        "scores = model.evaluate(test_ds)\n",
        "scores"
      ]
    },
    {
      "cell_type": "code",
      "execution_count": null,
      "metadata": {
        "id": "j2yyePzedIHB"
      },
      "outputs": [],
      "source": [
        "history_dict = history.history\n",
        "print(history_dict.keys())"
      ]
    },
    {
      "cell_type": "code",
      "execution_count": null,
      "metadata": {
        "id": "JqZTnQ8fdKZA"
      },
      "outputs": [],
      "source": [
        "acc = history.history['accuracy']\n",
        "print(acc)\n",
        "print(range(EPOCHS))\n",
        "val_acc = history.history['val_accuracy']\n",
        "\n",
        "loss = history.history['loss']\n",
        "val_loss = history.history['val_loss']"
      ]
    },
    {
      "cell_type": "code",
      "execution_count": null,
      "metadata": {
        "id": "uwI1NXQHdNlS"
      },
      "outputs": [],
      "source": [
        "plt.figure(figsize=(8, 8))\n",
        "plt.subplot(1, 2, 1)\n",
        "plt.plot(range(0, len(history.history['loss'])), acc, label='Training Accuracy')\n",
        "plt.plot(range(0, len(history.history['loss'])), val_acc, label='Validation Accuracy')\n",
        "plt.legend(loc='lower right')\n",
        "plt.title('Training and Validation Accuracy')\n",
        "\n",
        "plt.subplot(1, 2, 2)\n",
        "plt.plot(range(0, len(history.history['loss'])), loss, label='Training Loss')\n",
        "plt.plot(range(0, len(history.history['loss'])), val_loss, label='Validation Loss')\n",
        "plt.legend(loc='upper right')\n",
        "plt.title('Training and Validation Loss')\n",
        "plt.show()"
      ]
    },
    {
      "cell_type": "code",
      "execution_count": null,
      "metadata": {
        "id": "eBuMYNVfdQqh"
      },
      "outputs": [],
      "source": [
        "metrics = history.history\n",
        "plt.plot(history.epoch, metrics['loss'], metrics['val_loss'])\n",
        "plt.legend(['loss', 'val_loss'])\n",
        "plt.show()"
      ]
    },
    {
      "cell_type": "code",
      "execution_count": null,
      "metadata": {
        "id": "gHqjd4UYdTsw"
      },
      "outputs": [],
      "source": [
        "import numpy as np\n",
        "test_Images = []\n",
        "test_labels = []\n",
        "for images_batch, labels_batch in test_ds.take(2):\n",
        "    \n",
        "    test_Images.append(images_batch.numpy())\n",
        "    test_labels.append(labels_batch.numpy())\n",
        "\n",
        "    first_image = images_batch[6].numpy().astype('uint8')\n",
        "    first_label = labels_batch[6].numpy()\n",
        "    \n",
        "    print(\"3rd image to predict\")\n",
        "    plt.imshow(first_image)\n",
        "    print(\"actual label:\",class_names[first_label])\n",
        "    \n",
        "    batch_prediction = model.predict(images_batch)\n",
        "    print(\"predicted label:\",class_names[np.argmax(batch_prediction[6])])"
      ]
    },
    {
      "cell_type": "code",
      "execution_count": null,
      "metadata": {
        "id": "AEhsWTIedW_x"
      },
      "outputs": [],
      "source": [
        "commands = np.array(tf.io.gfile.listdir(str(data_dir)))\n",
        "commands = commands[commands != 'README.md']\n",
        "print('Commands:', commands)"
      ]
    },
    {
      "cell_type": "code",
      "execution_count": null,
      "metadata": {
        "id": "HuAKaf1YdZJT"
      },
      "outputs": [],
      "source": [
        "confusion_mtx = tf.math.confusion_matrix(y_true, y_pred)\n",
        "plt.figure(figsize=(7, 6))\n",
        "sns.set(font_scale=1)\n",
        "sns.heatmap(confusion_mtx,\n",
        "            xticklabels=commands,\n",
        "            yticklabels=commands,\n",
        "            annot=True, fmt='g')\n",
        "plt.xlabel('Prediction')\n",
        "plt.ylabel('Label')\n",
        "plt.legend(loc=1, prop={'size': 2})\n",
        "plt.show()"
      ]
    },
    {
      "cell_type": "code",
      "execution_count": null,
      "metadata": {
        "id": "XzAJ038zdbkJ"
      },
      "outputs": [],
      "source": [
        "def predict(model, img):\n",
        "    img_array = tf.keras.preprocessing.image.img_to_array(images[i].numpy())\n",
        "    img_array = tf.expand_dims(img_array, 0)\n",
        "\n",
        "    predictions = model.predict(img_array)\n",
        "\n",
        "    predicted_class = class_names[np.argmax(predictions[0])]\n",
        "    confidence = round(100 * (np.max(predictions[0])), 2)\n",
        "    return predicted_class, confidence"
      ]
    },
    {
      "cell_type": "code",
      "execution_count": null,
      "metadata": {
        "id": "Q0qxzJMgdehT"
      },
      "outputs": [],
      "source": [
        "plt.figure(figsize=(20, 20))\n",
        "for images, labels in test_ds.take(1):\n",
        "    for i in range(16):\n",
        "        ax = plt.subplot(4,4, i + 1)\n",
        "        plt.imshow(images[i].numpy().astype(\"uint8\"))\n",
        "        \n",
        "        predicted_class, confidence = predict(model, images[i].numpy())\n",
        "        actual_class = class_names[labels[i]] \n",
        "        \n",
        "        plt.title(f\"Actual: {actual_class},\\n Predicted: {predicted_class}.\\n Confidence: {confidence}%\")\n",
        "        \n",
        "        plt.axis(\"off\")"
      ]
    }
  ],
  "metadata": {
    "colab": {
      "provenance": []
    },
    "kernelspec": {
      "display_name": "Python 3.10.1 64-bit",
      "language": "python",
      "name": "python3"
    },
    "language_info": {
      "name": "python",
      "version": "3.10.1"
    },
    "vscode": {
      "interpreter": {
        "hash": "aee8b7b246df8f9039afb4144a1f6fd8d2ca17a180786b69acc140d282b71a49"
      }
    }
  },
  "nbformat": 4,
  "nbformat_minor": 0
}

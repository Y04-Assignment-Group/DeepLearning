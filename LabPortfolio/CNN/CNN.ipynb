{
  "nbformat": 4,
  "nbformat_minor": 0,
  "metadata": {
    "colab": {
      "provenance": [],
      "collapsed_sections": []
    },
    "kernelspec": {
      "name": "python3",
      "display_name": "Python 3"
    },
    "language_info": {
      "name": "python"
    }
  },
  "cells": [
    {
      "cell_type": "markdown",
      "source": [
        "![Screenshot 2022-10-27 at 11.28.01.jpg](data:image/jpeg;base64,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)"
      ],
      "metadata": {
        "id": "xr4fr9YjBBi1"
      }
    },
    {
      "cell_type": "code",
      "execution_count": 2,
      "metadata": {
        "colab": {
          "base_uri": "https://localhost:8080/"
        },
        "id": "M-mTntf4A89z",
        "outputId": "e7a0601f-53d8-43d7-8828-861c4a583a60"
      },
      "outputs": [
        {
          "output_type": "stream",
          "name": "stdout",
          "text": [
            "(5, 3)\n",
            "(2, 2)\n"
          ]
        },
        {
          "output_type": "execute_result",
          "data": {
            "text/plain": [
              "array([[0., 0.],\n",
              "       [0., 0.],\n",
              "       [0., 0.],\n",
              "       [0., 0.]])"
            ]
          },
          "metadata": {},
          "execution_count": 2
        }
      ],
      "source": [
        "import numpy as np\n",
        "l = np.array([[5,3,4], [1,0,0], [3,6,1], [9,0,2], [7,4,3]])\n",
        "f = np.array([[0,1], [-1,2]])\n",
        "print(l.shape)\n",
        "print(f.shape)\n",
        "\n",
        "op = np.zeros((l.shape[0]-f.shape[0]+1,l.shape[1]-f.shape[1]+1))\n",
        "op"
      ]
    },
    {
      "cell_type": "code",
      "source": [
        "def conv(image, f, b=0):\n",
        "    \n",
        "    s = np.multiply(image, f)\n",
        "    Z = np.sum(s)\n",
        "    return Z\n",
        "\n",
        "\n",
        "i = np.array([[5,3,4],[1,0,0],[3,6,1],[9,0,2],[7,4,3]])\n",
        "f = np.array([[0,1],[-1,2]])\n",
        "padding = 0\n",
        "stride = 1\n",
        "xo = int((i.shape[0] - f.shape[0]) + 1)\n",
        "yo = int((i.shape[1] - f.shape[1]) + 1)\n",
        "\n",
        "output = np.zeros((xo, yo))\n",
        "\n",
        "for y in range(i.shape[1]):\n",
        "  if y > i.shape[1]- f.shape[1]: \n",
        "    break\n",
        "  for x in range(i.shape[0]):\n",
        "\n",
        "    if x > i.shape[0] - f.shape[0]:\n",
        "        break\n",
        "    try:\n",
        "      output[x, y] = conv(i[x: x + f.shape[0], y: y + f.shape[1]],f)\n",
        "    except:\n",
        "        break\n",
        "print(output)"
      ],
      "metadata": {
        "colab": {
          "base_uri": "https://localhost:8080/"
        },
        "id": "QnzMfiYU5Nto",
        "outputId": "effcc113-c20a-4284-ebd8-0f09e3bb9af7"
      },
      "execution_count": 3,
      "outputs": [
        {
          "output_type": "stream",
          "name": "stdout",
          "text": [
            "[[ 2.  4.]\n",
            " [ 9. -4.]\n",
            " [-3.  5.]\n",
            " [ 1.  4.]]\n"
          ]
        }
      ]
    },
    {
      "cell_type": "code",
      "source": [
        "def conv_with_padding_stride(input, f, b,padding = ((1,0),(1,0)),stride= 1): #(Col_before, Col_after),(row_before, row after)\n",
        "    print(\"Original Input: \\n\", input)\n",
        "    if padding !=0:\n",
        "      input_pad = np.pad(input, padding, 'constant', constant_values=0)\n",
        "      print(\"Padded Input: \\n\", input_pad)\n",
        "    else:\n",
        "      input_pad = input\n",
        "    xo = int(((input_pad.shape[0] - f.shape[0] ) ) + 1)\n",
        "    yo = int(((input_pad.shape[1] - f.shape[1] ) ) + 1)\n",
        "\n",
        "    output = np.zeros((xo, yo))\n",
        "    for y in range(input_pad.shape[1]):\n",
        "      if y > input_pad.shape[1]- f.shape[1]: \n",
        "        break\n",
        "      for x in range(input_pad.shape[0]):        \n",
        "        if x > input_pad.shape[0] - f.shape[0]:\n",
        "          break\n",
        "        try:\n",
        "            output[x, y] = np.multiply(input_pad[x: x + f.shape[0], y: y + f.shape[1]],f).sum() + float(b)\n",
        "            print(\"At conv (\",y,\",\",x,\"): \\n\", output)\n",
        "        except:\n",
        "            break\n",
        "    return output\n",
        "\n",
        "i = np.array([[5,3,4],[1,0,0],[3,6,1],[9,0,2],[7,4,3]])\n",
        "f = np.array([[0,1],[-1,2]])\n",
        "padding = 0\n",
        "stride = 1\n",
        "padx = (f.shape[0]-1)/2\n",
        "pady = (f.shape[1]-1)/2\n",
        "output = conv_with_padding_stride(i,f,0)\n",
        "print(output)"
      ],
      "metadata": {
        "colab": {
          "base_uri": "https://localhost:8080/"
        },
        "id": "0WMT4Crg5gr_",
        "outputId": "503108ce-61b9-4a30-ac31-d46e5c61c41c"
      },
      "execution_count": 5,
      "outputs": [
        {
          "output_type": "stream",
          "name": "stdout",
          "text": [
            "Original Input: \n",
            " [[5 3 4]\n",
            " [1 0 0]\n",
            " [3 6 1]\n",
            " [9 0 2]\n",
            " [7 4 3]]\n",
            "Padded Input: \n",
            " [[0 0 0 0]\n",
            " [0 5 3 4]\n",
            " [0 1 0 0]\n",
            " [0 3 6 1]\n",
            " [0 9 0 2]\n",
            " [0 7 4 3]]\n",
            "At conv ( 0 , 0 ): \n",
            " [[10.  0.  0.]\n",
            " [ 0.  0.  0.]\n",
            " [ 0.  0.  0.]\n",
            " [ 0.  0.  0.]\n",
            " [ 0.  0.  0.]]\n",
            "At conv ( 0 , 1 ): \n",
            " [[10.  0.  0.]\n",
            " [ 7.  0.  0.]\n",
            " [ 0.  0.  0.]\n",
            " [ 0.  0.  0.]\n",
            " [ 0.  0.  0.]]\n",
            "At conv ( 0 , 2 ): \n",
            " [[10.  0.  0.]\n",
            " [ 7.  0.  0.]\n",
            " [ 7.  0.  0.]\n",
            " [ 0.  0.  0.]\n",
            " [ 0.  0.  0.]]\n",
            "At conv ( 0 , 3 ): \n",
            " [[10.  0.  0.]\n",
            " [ 7.  0.  0.]\n",
            " [ 7.  0.  0.]\n",
            " [21.  0.  0.]\n",
            " [ 0.  0.  0.]]\n",
            "At conv ( 0 , 4 ): \n",
            " [[10.  0.  0.]\n",
            " [ 7.  0.  0.]\n",
            " [ 7.  0.  0.]\n",
            " [21.  0.  0.]\n",
            " [23.  0.  0.]]\n",
            "At conv ( 1 , 0 ): \n",
            " [[10.  1.  0.]\n",
            " [ 7.  0.  0.]\n",
            " [ 7.  0.  0.]\n",
            " [21.  0.  0.]\n",
            " [23.  0.  0.]]\n",
            "At conv ( 1 , 1 ): \n",
            " [[10.  1.  0.]\n",
            " [ 7.  2.  0.]\n",
            " [ 7.  0.  0.]\n",
            " [21.  0.  0.]\n",
            " [23.  0.  0.]]\n",
            "At conv ( 1 , 2 ): \n",
            " [[10.  1.  0.]\n",
            " [ 7.  2.  0.]\n",
            " [ 7.  9.  0.]\n",
            " [21.  0.  0.]\n",
            " [23.  0.  0.]]\n",
            "At conv ( 1 , 3 ): \n",
            " [[10.  1.  0.]\n",
            " [ 7.  2.  0.]\n",
            " [ 7.  9.  0.]\n",
            " [21. -3.  0.]\n",
            " [23.  0.  0.]]\n",
            "At conv ( 1 , 4 ): \n",
            " [[10.  1.  0.]\n",
            " [ 7.  2.  0.]\n",
            " [ 7.  9.  0.]\n",
            " [21. -3.  0.]\n",
            " [23.  1.  0.]]\n",
            "At conv ( 2 , 0 ): \n",
            " [[10.  1.  5.]\n",
            " [ 7.  2.  0.]\n",
            " [ 7.  9.  0.]\n",
            " [21. -3.  0.]\n",
            " [23.  1.  0.]]\n",
            "At conv ( 2 , 1 ): \n",
            " [[10.  1.  5.]\n",
            " [ 7.  2.  4.]\n",
            " [ 7.  9.  0.]\n",
            " [21. -3.  0.]\n",
            " [23.  1.  0.]]\n",
            "At conv ( 2 , 2 ): \n",
            " [[10.  1.  5.]\n",
            " [ 7.  2.  4.]\n",
            " [ 7.  9. -4.]\n",
            " [21. -3.  0.]\n",
            " [23.  1.  0.]]\n",
            "At conv ( 2 , 3 ): \n",
            " [[10.  1.  5.]\n",
            " [ 7.  2.  4.]\n",
            " [ 7.  9. -4.]\n",
            " [21. -3.  5.]\n",
            " [23.  1.  0.]]\n",
            "At conv ( 2 , 4 ): \n",
            " [[10.  1.  5.]\n",
            " [ 7.  2.  4.]\n",
            " [ 7.  9. -4.]\n",
            " [21. -3.  5.]\n",
            " [23.  1.  4.]]\n",
            "[[10.  1.  5.]\n",
            " [ 7.  2.  4.]\n",
            " [ 7.  9. -4.]\n",
            " [21. -3.  5.]\n",
            " [23.  1.  4.]]\n"
          ]
        }
      ]
    }
  ]
}